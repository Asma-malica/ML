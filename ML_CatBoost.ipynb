{
  "nbformat": 4,
  "nbformat_minor": 0,
  "metadata": {
    "colab": {
      "provenance": [],
      "authorship_tag": "ABX9TyPhGaRUL6cpX2i8PBhJTHnC",
      "include_colab_link": true
    },
    "kernelspec": {
      "name": "python3",
      "display_name": "Python 3"
    },
    "language_info": {
      "name": "python"
    }
  },
  "cells": [
    {
      "cell_type": "markdown",
      "metadata": {
        "id": "view-in-github",
        "colab_type": "text"
      },
      "source": [
        "<a href=\"https://colab.research.google.com/github/Asma-malica/ML/blob/main/ML_CatBoost.ipynb\" target=\"_parent\"><img src=\"https://colab.research.google.com/assets/colab-badge.svg\" alt=\"Open In Colab\"/></a>"
      ]
    },
    {
      "cell_type": "markdown",
      "source": [
        "**CATBOOST CLASSIFIER**"
      ],
      "metadata": {
        "id": "hnDg6_CN3AAl"
      }
    },
    {
      "cell_type": "code",
      "execution_count": 95,
      "metadata": {
        "id": "OCQWnS88opNq"
      },
      "outputs": [],
      "source": [
        "import pandas as pd\n",
        "import numpy as np"
      ]
    },
    {
      "cell_type": "code",
      "source": [
        "train = pd.read_csv('https://raw.githubusercontent.com/ezioauditore-tech/AI/main/datasets/amazon-employee-access-challenge/train.csv')\n",
        "print(train)\n"
      ],
      "metadata": {
        "colab": {
          "base_uri": "https://localhost:8080/"
        },
        "id": "ldgPIuX-ozyc",
        "outputId": "a538a161-e405-461c-ca66-3ad386fb7d9a"
      },
      "execution_count": 96,
      "outputs": [
        {
          "output_type": "stream",
          "name": "stdout",
          "text": [
            "       ACTION  RESOURCE  MGR_ID  ROLE_ROLLUP_1  ROLE_ROLLUP_2  ROLE_DEPTNAME  \\\n",
            "0           1     39353   85475         117961         118300         123472   \n",
            "1           1     17183    1540         117961         118343         123125   \n",
            "2           1     36724   14457         118219         118220         117884   \n",
            "3           1     36135    5396         117961         118343         119993   \n",
            "4           1     42680    5905         117929         117930         119569   \n",
            "...       ...       ...     ...            ...            ...            ...   \n",
            "32764       1     23497   16971         117961         118300         119993   \n",
            "32765       1     25139  311198          91261         118026         122392   \n",
            "32766       1     34924   28805         117961         118327         120299   \n",
            "32767       1     80574   55643         118256         118257         117945   \n",
            "32768       1     14354   59575         117916         118150         117920   \n",
            "\n",
            "       ROLE_TITLE  ROLE_FAMILY_DESC  ROLE_FAMILY  ROLE_CODE  \n",
            "0          117905            117906       290919     117908  \n",
            "1          118536            118536       308574     118539  \n",
            "2          117879            267952        19721     117880  \n",
            "3          118321            240983       290919     118322  \n",
            "4          119323            123932        19793     119325  \n",
            "...           ...               ...          ...        ...  \n",
            "32764      118321            240983       290919     118322  \n",
            "32765      121143            173805       249618     121145  \n",
            "32766      124922            152038       118612     124924  \n",
            "32767      280788            280788       292795     119082  \n",
            "32768      118568            122142        19721     118570  \n",
            "\n",
            "[32769 rows x 10 columns]\n"
          ]
        }
      ]
    },
    {
      "cell_type": "code",
      "source": [
        "train.isnull().sum()"
      ],
      "metadata": {
        "colab": {
          "base_uri": "https://localhost:8080/"
        },
        "id": "ByMzszjAp1A5",
        "outputId": "d4fe03af-5f46-4bb6-d529-0acc67efaa50"
      },
      "execution_count": 97,
      "outputs": [
        {
          "output_type": "execute_result",
          "data": {
            "text/plain": [
              "ACTION              0\n",
              "RESOURCE            0\n",
              "MGR_ID              0\n",
              "ROLE_ROLLUP_1       0\n",
              "ROLE_ROLLUP_2       0\n",
              "ROLE_DEPTNAME       0\n",
              "ROLE_TITLE          0\n",
              "ROLE_FAMILY_DESC    0\n",
              "ROLE_FAMILY         0\n",
              "ROLE_CODE           0\n",
              "dtype: int64"
            ]
          },
          "metadata": {},
          "execution_count": 97
        }
      ]
    },
    {
      "cell_type": "code",
      "source": [],
      "metadata": {
        "id": "juyoeEk4rTQB"
      },
      "execution_count": 97,
      "outputs": []
    },
    {
      "cell_type": "code",
      "source": [
        "train.info()"
      ],
      "metadata": {
        "colab": {
          "base_uri": "https://localhost:8080/"
        },
        "id": "6kO_-WIFqCCh",
        "outputId": "6ffa2259-62ba-4a86-9f59-b71916b018cd"
      },
      "execution_count": 98,
      "outputs": [
        {
          "output_type": "stream",
          "name": "stdout",
          "text": [
            "<class 'pandas.core.frame.DataFrame'>\n",
            "RangeIndex: 32769 entries, 0 to 32768\n",
            "Data columns (total 10 columns):\n",
            " #   Column            Non-Null Count  Dtype\n",
            "---  ------            --------------  -----\n",
            " 0   ACTION            32769 non-null  int64\n",
            " 1   RESOURCE          32769 non-null  int64\n",
            " 2   MGR_ID            32769 non-null  int64\n",
            " 3   ROLE_ROLLUP_1     32769 non-null  int64\n",
            " 4   ROLE_ROLLUP_2     32769 non-null  int64\n",
            " 5   ROLE_DEPTNAME     32769 non-null  int64\n",
            " 6   ROLE_TITLE        32769 non-null  int64\n",
            " 7   ROLE_FAMILY_DESC  32769 non-null  int64\n",
            " 8   ROLE_FAMILY       32769 non-null  int64\n",
            " 9   ROLE_CODE         32769 non-null  int64\n",
            "dtypes: int64(10)\n",
            "memory usage: 2.5 MB\n"
          ]
        }
      ]
    },
    {
      "cell_type": "code",
      "source": [
        "pip install catboost\n"
      ],
      "metadata": {
        "colab": {
          "base_uri": "https://localhost:8080/"
        },
        "id": "2mlWPk1OqZNG",
        "outputId": "1c9c54df-216c-4424-d43f-19c8a30cce57"
      },
      "execution_count": 99,
      "outputs": [
        {
          "output_type": "stream",
          "name": "stdout",
          "text": [
            "Requirement already satisfied: catboost in /usr/local/lib/python3.10/dist-packages (1.2.2)\n",
            "Requirement already satisfied: graphviz in /usr/local/lib/python3.10/dist-packages (from catboost) (0.20.1)\n",
            "Requirement already satisfied: matplotlib in /usr/local/lib/python3.10/dist-packages (from catboost) (3.7.1)\n",
            "Requirement already satisfied: numpy>=1.16.0 in /usr/local/lib/python3.10/dist-packages (from catboost) (1.23.5)\n",
            "Requirement already satisfied: pandas>=0.24 in /usr/local/lib/python3.10/dist-packages (from catboost) (1.5.3)\n",
            "Requirement already satisfied: scipy in /usr/local/lib/python3.10/dist-packages (from catboost) (1.11.4)\n",
            "Requirement already satisfied: plotly in /usr/local/lib/python3.10/dist-packages (from catboost) (5.15.0)\n",
            "Requirement already satisfied: six in /usr/local/lib/python3.10/dist-packages (from catboost) (1.16.0)\n",
            "Requirement already satisfied: python-dateutil>=2.8.1 in /usr/local/lib/python3.10/dist-packages (from pandas>=0.24->catboost) (2.8.2)\n",
            "Requirement already satisfied: pytz>=2020.1 in /usr/local/lib/python3.10/dist-packages (from pandas>=0.24->catboost) (2023.3.post1)\n",
            "Requirement already satisfied: contourpy>=1.0.1 in /usr/local/lib/python3.10/dist-packages (from matplotlib->catboost) (1.2.0)\n",
            "Requirement already satisfied: cycler>=0.10 in /usr/local/lib/python3.10/dist-packages (from matplotlib->catboost) (0.12.1)\n",
            "Requirement already satisfied: fonttools>=4.22.0 in /usr/local/lib/python3.10/dist-packages (from matplotlib->catboost) (4.46.0)\n",
            "Requirement already satisfied: kiwisolver>=1.0.1 in /usr/local/lib/python3.10/dist-packages (from matplotlib->catboost) (1.4.5)\n",
            "Requirement already satisfied: packaging>=20.0 in /usr/local/lib/python3.10/dist-packages (from matplotlib->catboost) (23.2)\n",
            "Requirement already satisfied: pillow>=6.2.0 in /usr/local/lib/python3.10/dist-packages (from matplotlib->catboost) (9.4.0)\n",
            "Requirement already satisfied: pyparsing>=2.3.1 in /usr/local/lib/python3.10/dist-packages (from matplotlib->catboost) (3.1.1)\n",
            "Requirement already satisfied: tenacity>=6.2.0 in /usr/local/lib/python3.10/dist-packages (from plotly->catboost) (8.2.3)\n"
          ]
        }
      ]
    },
    {
      "cell_type": "code",
      "source": [
        "from catboost import CatBoostClassifier,CatBoostRegressor"
      ],
      "metadata": {
        "id": "W-8IKBKWp-C1"
      },
      "execution_count": 100,
      "outputs": []
    },
    {
      "cell_type": "code",
      "source": [
        "x = train.iloc[:,1:].values"
      ],
      "metadata": {
        "id": "RA7jZNXoqVNS"
      },
      "execution_count": 101,
      "outputs": []
    },
    {
      "cell_type": "code",
      "source": [
        "y = train.iloc[:,0].values"
      ],
      "metadata": {
        "id": "8gJ-o_5Wsbue"
      },
      "execution_count": 102,
      "outputs": []
    },
    {
      "cell_type": "code",
      "source": [
        "from sklearn.model_selection import train_test_split\n",
        "\n",
        "x_train, x_test, y_train, y_test = train_test_split(x, y, test_size=0.2, random_state=42)\n"
      ],
      "metadata": {
        "id": "ZB5GA3u1qqJs"
      },
      "execution_count": 103,
      "outputs": []
    },
    {
      "cell_type": "code",
      "source": [
        "from catboost import CatBoostClassifier\n",
        "model = CatBoostClassifier(iterations=10,learning_rate=0.05)"
      ],
      "metadata": {
        "id": "9OGT3k0ktiqV"
      },
      "execution_count": 104,
      "outputs": []
    },
    {
      "cell_type": "code",
      "source": [
        "model.fit(x_train,y_train)\n",
        "y_pred = model.predict(x_test)"
      ],
      "metadata": {
        "colab": {
          "base_uri": "https://localhost:8080/"
        },
        "id": "fHu8De9Zzw4w",
        "outputId": "b04ead4a-43b8-4e5a-982c-3d66a768d88d"
      },
      "execution_count": 105,
      "outputs": [
        {
          "output_type": "stream",
          "name": "stdout",
          "text": [
            "0:\tlearn: 0.6555443\ttotal: 5.72ms\tremaining: 51.5ms\n",
            "1:\tlearn: 0.6213011\ttotal: 11.2ms\tremaining: 44.7ms\n",
            "2:\tlearn: 0.5901320\ttotal: 16.4ms\tremaining: 38.3ms\n",
            "3:\tlearn: 0.5618153\ttotal: 22.4ms\tremaining: 33.6ms\n",
            "4:\tlearn: 0.5360233\ttotal: 28.1ms\tremaining: 28.1ms\n",
            "5:\tlearn: 0.5125353\ttotal: 34.1ms\tremaining: 22.7ms\n",
            "6:\tlearn: 0.4909443\ttotal: 40.2ms\tremaining: 17.2ms\n",
            "7:\tlearn: 0.4710780\ttotal: 46.1ms\tremaining: 11.5ms\n",
            "8:\tlearn: 0.4526779\ttotal: 52.4ms\tremaining: 5.82ms\n",
            "9:\tlearn: 0.4356789\ttotal: 58.3ms\tremaining: 0us\n"
          ]
        }
      ]
    },
    {
      "cell_type": "code",
      "source": [
        "from sklearn.metrics import accuracy_score\n",
        "acc = accuracy_score(y_test,y_pred)\n",
        "acc"
      ],
      "metadata": {
        "colab": {
          "base_uri": "https://localhost:8080/"
        },
        "id": "hSXfBWkH0B83",
        "outputId": "ac131d3b-90e4-4190-c688-2ca4a79a4a48"
      },
      "execution_count": 106,
      "outputs": [
        {
          "output_type": "execute_result",
          "data": {
            "text/plain": [
              "0.9436985047299359"
            ]
          },
          "metadata": {},
          "execution_count": 106
        }
      ]
    },
    {
      "cell_type": "markdown",
      "source": [
        "**CATBOOST FOR REGRESSION**"
      ],
      "metadata": {
        "id": "0DiAkUJyuetV"
      }
    },
    {
      "cell_type": "code",
      "source": [
        "model = CatBoostRegressor(iterations=100, depth=10, learning_rate=0.05, loss_function='RMSE')\n",
        "model.fit(X_train, y_train, eval_set=(X_test, y_test), verbose=100)\n",
        "predictions = model.predict(X_test)"
      ],
      "metadata": {
        "colab": {
          "base_uri": "https://localhost:8080/"
        },
        "id": "YF-1TT5RuiqS",
        "outputId": "00adfe4b-c623-4bba-d811-ecddbf1aaff9"
      },
      "execution_count": 107,
      "outputs": [
        {
          "output_type": "stream",
          "name": "stdout",
          "text": [
            "0:\tlearn: 0.2229121\ttest: 0.2193452\tbest: 0.2193452 (0)\ttotal: 16.4ms\tremaining: 1.62s\n",
            "99:\tlearn: 0.0030536\ttest: 0.0049066\tbest: 0.0049066 (99)\ttotal: 1.91s\tremaining: 0us\n",
            "\n",
            "bestTest = 0.004906630014\n",
            "bestIteration = 99\n",
            "\n"
          ]
        }
      ]
    },
    {
      "cell_type": "code",
      "source": [
        "from sklearn.metrics import accuracy_score,mean_squared_error\n",
        "try:\n",
        "    rmse = mean_squared_error(y_test, predictions, squared=False)\n",
        "    print(f'RMSE: {rmse}')\n",
        "except ValueError as e:\n",
        "    print(f'Error calculating RMSE: {e}')\n",
        "\n",
        "print(f'RMSE: {rmse}')"
      ],
      "metadata": {
        "colab": {
          "base_uri": "https://localhost:8080/"
        },
        "id": "nYlmPVgNuliv",
        "outputId": "55718b18-0287-45c1-f6e6-86b05403050d"
      },
      "execution_count": 108,
      "outputs": [
        {
          "output_type": "stream",
          "name": "stdout",
          "text": [
            "RMSE: 0.00490663001391139\n",
            "RMSE: 0.00490663001391139\n"
          ]
        }
      ]
    }
  ]
}