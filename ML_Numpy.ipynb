{
  "nbformat": 4,
  "nbformat_minor": 0,
  "metadata": {
    "colab": {
      "provenance": [],
      "include_colab_link": true
    },
    "kernelspec": {
      "name": "python3",
      "display_name": "Python 3"
    },
    "language_info": {
      "name": "python"
    }
  },
  "cells": [
    {
      "cell_type": "markdown",
      "metadata": {
        "id": "view-in-github",
        "colab_type": "text"
      },
      "source": [
        "<a href=\"https://colab.research.google.com/github/Asma-malica/ML/blob/main/ML_Numpy.ipynb\" target=\"_parent\"><img src=\"https://colab.research.google.com/assets/colab-badge.svg\" alt=\"Open In Colab\"/></a>"
      ]
    },
    {
      "cell_type": "code",
      "source": [
        "!pip install numpy\n"
      ],
      "metadata": {
        "id": "1oTgTAk2OXti",
        "colab": {
          "base_uri": "https://localhost:8080/"
        },
        "outputId": "14efeae0-2a2a-43a5-a084-94de1e0c817b"
      },
      "execution_count": null,
      "outputs": [
        {
          "output_type": "stream",
          "name": "stdout",
          "text": [
            "Requirement already satisfied: numpy in /usr/local/lib/python3.10/dist-packages (1.23.5)\n"
          ]
        }
      ]
    },
    {
      "cell_type": "markdown",
      "source": [
        "#Numpy is the core library for scientific computing in python\n",
        "\n"
      ],
      "metadata": {
        "id": "wCUFobh_akrM"
      }
    },
    {
      "cell_type": "code",
      "source": [
        "#Numpy is the core library for scientific computing in python\n",
        "\n",
        "import numpy as np"
      ],
      "metadata": {
        "id": "c4fxOei0ZoEM"
      },
      "execution_count": null,
      "outputs": []
    },
    {
      "cell_type": "code",
      "source": [
        "ls = [10,20,30]\n",
        "print(ls)"
      ],
      "metadata": {
        "colab": {
          "base_uri": "https://localhost:8080/"
        },
        "id": "-fduUnO2aICm",
        "outputId": "e34fb239-379e-4b80-89b4-e60e96b66d08"
      },
      "execution_count": null,
      "outputs": [
        {
          "output_type": "stream",
          "name": "stdout",
          "text": [
            "[10, 20, 30]\n"
          ]
        }
      ]
    },
    {
      "cell_type": "code",
      "source": [
        "#list\n",
        "a = [10,20]\n",
        "print(a)\n",
        "a.append([30,40])\n",
        "print(a)\n",
        "a.extend([50,60])\n",
        "print(a)\n",
        "a.insert(5,70)\n",
        "print(a)"
      ],
      "metadata": {
        "colab": {
          "base_uri": "https://localhost:8080/"
        },
        "id": "9n2bNCOubJVn",
        "outputId": "7a23b4fa-236d-4ee0-ff58-e3bac7f0ba0f"
      },
      "execution_count": null,
      "outputs": [
        {
          "output_type": "stream",
          "name": "stdout",
          "text": [
            "[10, 20]\n",
            "[10, 20, [30, 40]]\n",
            "[10, 20, [30, 40], 50, 60]\n",
            "[10, 20, [30, 40], 50, 60, 70]\n"
          ]
        }
      ]
    },
    {
      "cell_type": "code",
      "source": [
        "#tuple\n",
        "a = (10,20,30,20)\n",
        "print(a)\n",
        "print(a.index(10))\n",
        "print(a.count(20))\n",
        "\n",
        "\n"
      ],
      "metadata": {
        "colab": {
          "base_uri": "https://localhost:8080/"
        },
        "id": "NyOJy3MmbMD7",
        "outputId": "7d5f6519-3ed0-4e8d-9454-8aedd0cdc6cb"
      },
      "execution_count": null,
      "outputs": [
        {
          "output_type": "stream",
          "name": "stdout",
          "text": [
            "(10, 20, 30, 20)\n",
            "0\n",
            "2\n"
          ]
        }
      ]
    },
    {
      "cell_type": "code",
      "source": [
        "#dict\n",
        "a = {10,20,30}\n",
        "print(a)"
      ],
      "metadata": {
        "colab": {
          "base_uri": "https://localhost:8080/"
        },
        "id": "SEYdXZonbPMD",
        "outputId": "0ac9464f-6535-43a5-e7e9-e8f0fc07d011"
      },
      "execution_count": null,
      "outputs": [
        {
          "output_type": "stream",
          "name": "stdout",
          "text": [
            "{10, 20, 30}\n"
          ]
        }
      ]
    },
    {
      "cell_type": "markdown",
      "source": [
        "numpy is a grid of an array\n"
      ],
      "metadata": {
        "id": "m65tRYQ3dM30"
      }
    },
    {
      "cell_type": "code",
      "source": [
        "a = np.array([1,2,3])\n",
        "print(a)\n",
        "print(a.shape)"
      ],
      "metadata": {
        "colab": {
          "base_uri": "https://localhost:8080/"
        },
        "id": "YNZ_FKVsc9d6",
        "outputId": "db4afc19-d43f-4e15-da6e-58399380c8f0"
      },
      "execution_count": null,
      "outputs": [
        {
          "output_type": "stream",
          "name": "stdout",
          "text": [
            "[1 2 3]\n",
            "(3,)\n"
          ]
        }
      ]
    },
    {
      "cell_type": "code",
      "source": [
        "a = np.array([[1,2],[3,4]])\n",
        "print(a)\n",
        "print(a.shape)"
      ],
      "metadata": {
        "colab": {
          "base_uri": "https://localhost:8080/"
        },
        "id": "8GjAdbiBdFRz",
        "outputId": "cdcc8127-2661-4ec7-9ecc-3bb3fe5bb1c6"
      },
      "execution_count": null,
      "outputs": [
        {
          "output_type": "stream",
          "name": "stdout",
          "text": [
            "[[1 2]\n",
            " [3 4]]\n",
            "(2, 2)\n"
          ]
        }
      ]
    },
    {
      "cell_type": "code",
      "source": [
        "a = np.arange(3,15)\n",
        "print(a)"
      ],
      "metadata": {
        "colab": {
          "base_uri": "https://localhost:8080/"
        },
        "id": "YffaztK5dnw1",
        "outputId": "ce92564c-d956-45e4-9190-caed8bf0465d"
      },
      "execution_count": null,
      "outputs": [
        {
          "output_type": "stream",
          "name": "stdout",
          "text": [
            "[ 3  4  5  6  7  8  9 10 11 12 13 14]\n"
          ]
        }
      ]
    },
    {
      "cell_type": "code",
      "source": [
        "a = np.array([1,2,3],dtype  = np.float64)\n",
        "b = np.array([[1,2,3],[4,5,6]])\n",
        "print(a)\n",
        "print(b)\n"
      ],
      "metadata": {
        "colab": {
          "base_uri": "https://localhost:8080/"
        },
        "id": "s3nW2PaqeGDX",
        "outputId": "b22ca18d-f436-4419-eb75-74920a3fcd33"
      },
      "execution_count": null,
      "outputs": [
        {
          "output_type": "stream",
          "name": "stdout",
          "text": [
            "[1. 2. 3.]\n",
            "[[1 2 3]\n",
            " [4 5 6]]\n"
          ]
        }
      ]
    },
    {
      "cell_type": "code",
      "source": [
        "print(type(a))\n",
        "print(a.shape)\n",
        "print(type(b))\n",
        "print(b.shape)"
      ],
      "metadata": {
        "colab": {
          "base_uri": "https://localhost:8080/"
        },
        "id": "hP-0flxteBPw",
        "outputId": "57307e4c-9868-4220-d7cc-a2fffd62e1ff"
      },
      "execution_count": null,
      "outputs": [
        {
          "output_type": "stream",
          "name": "stdout",
          "text": [
            "<class 'numpy.ndarray'>\n",
            "(3,)\n",
            "<class 'numpy.ndarray'>\n",
            "(2, 3)\n"
          ]
        }
      ]
    },
    {
      "cell_type": "markdown",
      "source": [
        "n determines the rank of the array \\n\n",
        "\n",
        "\n",
        "ndimensions\n",
        "\n",
        "\n",
        "\n",
        "\n"
      ],
      "metadata": {
        "id": "gMsRlI_9fA5m"
      }
    },
    {
      "cell_type": "code",
      "source": [
        "print(np.ones(2))\n",
        "print(np.zeros(2))\n",
        "print(np.random.random(2))"
      ],
      "metadata": {
        "colab": {
          "base_uri": "https://localhost:8080/"
        },
        "id": "7qARvENKe7BN",
        "outputId": "81cd00f3-be9d-4c9b-d623-b888060e56b7"
      },
      "execution_count": null,
      "outputs": [
        {
          "output_type": "stream",
          "name": "stdout",
          "text": [
            "[1. 1.]\n",
            "[0. 0.]\n",
            "[0.72466032 0.58728478]\n"
          ]
        }
      ]
    },
    {
      "cell_type": "code",
      "source": [
        "print(np.ones((2,2,3)))\n",
        "print(np.zeros((2,2)))\n",
        "print(np.random.random((2,2)))"
      ],
      "metadata": {
        "colab": {
          "base_uri": "https://localhost:8080/"
        },
        "id": "pDYRMqxffeA2",
        "outputId": "9a02bff4-692a-4aea-e7b3-0269a19f9066"
      },
      "execution_count": null,
      "outputs": [
        {
          "output_type": "stream",
          "name": "stdout",
          "text": [
            "[[[1. 1. 1.]\n",
            "  [1. 1. 1.]]\n",
            "\n",
            " [[1. 1. 1.]\n",
            "  [1. 1. 1.]]]\n",
            "[[0. 0.]\n",
            " [0. 0.]]\n",
            "[[0.72318445 0.38088554]\n",
            " [0.42810434 0.82585803]]\n"
          ]
        }
      ]
    },
    {
      "cell_type": "code",
      "source": [
        "# a = np.full((2,2))\n",
        "# print(a)\n",
        "print(np.eye(3)) #eye --? identity matrix\n"
      ],
      "metadata": {
        "colab": {
          "base_uri": "https://localhost:8080/"
        },
        "id": "cDr0Wh7Kfxyr",
        "outputId": "b0d53543-cbf1-4fc8-eda0-3fd65799c413"
      },
      "execution_count": null,
      "outputs": [
        {
          "output_type": "stream",
          "name": "stdout",
          "text": [
            "[[1. 0. 0.]\n",
            " [0. 1. 0.]\n",
            " [0. 0. 1.]]\n"
          ]
        }
      ]
    },
    {
      "cell_type": "code",
      "source": [
        "print(np.arange(10,50,5))"
      ],
      "metadata": {
        "colab": {
          "base_uri": "https://localhost:8080/"
        },
        "id": "cwdelczjgdGu",
        "outputId": "085218e5-2ed5-46c9-b2bf-812b182ee2c1"
      },
      "execution_count": null,
      "outputs": [
        {
          "output_type": "stream",
          "name": "stdout",
          "text": [
            "[10 15 20 25 30 35 40 45]\n"
          ]
        }
      ]
    },
    {
      "cell_type": "code",
      "source": [
        "print(np.linspace(0.,1.,num = 5)) #num --> keyword #linspace -->splitting the value into 5(num) times"
      ],
      "metadata": {
        "colab": {
          "base_uri": "https://localhost:8080/"
        },
        "id": "uk7nJbxqgy12",
        "outputId": "f104cdbb-8721-4951-d973-07ea546e1c7e"
      },
      "execution_count": null,
      "outputs": [
        {
          "output_type": "stream",
          "name": "stdout",
          "text": [
            "[0.   0.25 0.5  0.75 1.  ]\n"
          ]
        }
      ]
    },
    {
      "cell_type": "code",
      "source": [
        " print(np.array([1,2,3]))"
      ],
      "metadata": {
        "colab": {
          "base_uri": "https://localhost:8080/"
        },
        "id": "TQJER4qag81N",
        "outputId": "2f567199-c286-4d13-c525-956e9899a62e"
      },
      "execution_count": null,
      "outputs": [
        {
          "output_type": "stream",
          "name": "stdout",
          "text": [
            "[1 2 3]\n"
          ]
        }
      ]
    },
    {
      "cell_type": "code",
      "source": [
        "#indexing\n",
        "a = np.array([[1,2,3],[4,5,6]])\n",
        "print(a)\n",
        "print(a[0,1])\n",
        "print(a[0:2,0])  # 0 -->row 2-->  0-->\n",
        "print(a[0:2,1])\n",
        "print(a[1:3])\n",
        "print(a[1,2])\n",
        "print(a[1:2,2])\n"
      ],
      "metadata": {
        "colab": {
          "base_uri": "https://localhost:8080/"
        },
        "id": "WcKkARs0itUF",
        "outputId": "c3b55349-76f0-40a5-fe85-9ade85d275fe"
      },
      "execution_count": null,
      "outputs": [
        {
          "output_type": "stream",
          "name": "stdout",
          "text": [
            "[[1 2 3]\n",
            " [4 5 6]]\n",
            "2\n",
            "[1 4]\n",
            "[2 5]\n",
            "[[4 5 6]]\n",
            "6\n",
            "[6]\n"
          ]
        }
      ]
    },
    {
      "cell_type": "code",
      "source": [
        "a = np.array([[1,2,3,4],[5,6,7,8],[9,10,11,12]])\n",
        "print(a.shape)\n",
        "b = a[:2,1:3]\n",
        "print(b)\n",
        "c = a[1:3,2:4]\n",
        "print(c)\n"
      ],
      "metadata": {
        "colab": {
          "base_uri": "https://localhost:8080/"
        },
        "id": "ZTgdh8NViccq",
        "outputId": "6bb3b5d3-308b-4d04-f452-57a02cb8c39a"
      },
      "execution_count": null,
      "outputs": [
        {
          "output_type": "stream",
          "name": "stdout",
          "text": [
            "(3, 4)\n",
            "[[2 3]\n",
            " [6 7]]\n",
            "[[ 7  8]\n",
            " [11 12]]\n"
          ]
        }
      ]
    },
    {
      "cell_type": "markdown",
      "source": [
        "slice of an array is a view into the same data"
      ],
      "metadata": {
        "id": "jZVXDmvVloy_"
      }
    },
    {
      "cell_type": "code",
      "source": [
        "print(a[0,1])"
      ],
      "metadata": {
        "colab": {
          "base_uri": "https://localhost:8080/"
        },
        "id": "88ltgHgvjCkJ",
        "outputId": "88c4654c-9402-4fbe-b14e-d769b762bd79"
      },
      "execution_count": null,
      "outputs": [
        {
          "output_type": "stream",
          "name": "stdout",
          "text": [
            "2\n"
          ]
        }
      ]
    },
    {
      "cell_type": "code",
      "source": [
        "a = np.array([[1,2,3,4],[5,6,7,8],[9,10,11,12]])\n",
        "print(a)\n",
        "print(a.shape)"
      ],
      "metadata": {
        "colab": {
          "base_uri": "https://localhost:8080/"
        },
        "id": "_3It-Hh7lzN1",
        "outputId": "7f99d30c-7b1a-45f5-a8f1-a81d83bf7781"
      },
      "execution_count": null,
      "outputs": [
        {
          "output_type": "stream",
          "name": "stdout",
          "text": [
            "[[ 1  2  3  4]\n",
            " [ 5  6  7  8]\n",
            " [ 9 10 11 12]]\n",
            "(3, 4)\n"
          ]
        }
      ]
    },
    {
      "cell_type": "code",
      "source": [
        "r1 = a[1,:]\n",
        "print(r1,r1.shape)\n",
        "r2 = a[1:2, :]\n",
        "print(r2,r2.shape)\n",
        "r3 = a[[1],:]\n",
        "print(r3,r3.shape)\n",
        "r4 = a[[2],0:4]\n",
        "print(r4)"
      ],
      "metadata": {
        "colab": {
          "base_uri": "https://localhost:8080/"
        },
        "id": "oQSVhJdsl3W3",
        "outputId": "e92a8ad0-b191-450c-d6b5-14a0bbdae4b0"
      },
      "execution_count": null,
      "outputs": [
        {
          "output_type": "stream",
          "name": "stdout",
          "text": [
            "[5 6 7 8] (4,)\n",
            "[[5 6 7 8]] (1, 4)\n",
            "[[5 6 7 8]] (1, 4)\n",
            "[[ 9 10 11 12]]\n"
          ]
        }
      ]
    },
    {
      "cell_type": "code",
      "source": [
        "c1 = a[:,1]\n",
        "print(c1)\n",
        "c2 = a[:,1:2]\n",
        "print(c2)"
      ],
      "metadata": {
        "colab": {
          "base_uri": "https://localhost:8080/"
        },
        "id": "s-XKpTywmIy7",
        "outputId": "d3a25e2e-8ff5-49ec-f390-56df79ce4a2e"
      },
      "execution_count": null,
      "outputs": [
        {
          "output_type": "stream",
          "name": "stdout",
          "text": [
            "[ 2  6 10]\n",
            "[[ 2]\n",
            " [ 6]\n",
            " [10]]\n"
          ]
        }
      ]
    },
    {
      "cell_type": "code",
      "source": [
        "a = np.array([[1,2,3,4],[5,6,7,8],[9,10,11,12],[13,14,15,16]])\n",
        "print(a)\n",
        "b = np.array([0,2,0,3])  #0,2,0,1 --> index ,, np.arange() it retrieves the element of that particular index\n",
        "print(a[np.arange(4),b])\n",
        "print(a[np.arange(4),b]+10)\n"
      ],
      "metadata": {
        "id": "jisXN1oVn0mk",
        "colab": {
          "base_uri": "https://localhost:8080/"
        },
        "outputId": "4beb2985-0689-4fc9-8637-ec5ce9f8c815"
      },
      "execution_count": null,
      "outputs": [
        {
          "output_type": "stream",
          "name": "stdout",
          "text": [
            "[[ 1  2  3  4]\n",
            " [ 5  6  7  8]\n",
            " [ 9 10 11 12]\n",
            " [13 14 15 16]]\n",
            "[ 1  7  9 16]\n",
            "[11 17 19 26]\n"
          ]
        }
      ]
    },
    {
      "cell_type": "markdown",
      "source": [
        "boolean array indexing\n"
      ],
      "metadata": {
        "id": "lGuW1yvu9kla"
      }
    },
    {
      "cell_type": "code",
      "source": [
        "print(a>2)\n",
        "print(a[a>2])\n",
        "print(a[a<=2])"
      ],
      "metadata": {
        "colab": {
          "base_uri": "https://localhost:8080/"
        },
        "id": "4_12IjhM7mC_",
        "outputId": "dc6f7f51-337d-4060-aae1-2c6da3d805ae"
      },
      "execution_count": null,
      "outputs": [
        {
          "output_type": "stream",
          "name": "stdout",
          "text": [
            "[[False False  True  True]\n",
            " [ True  True  True  True]\n",
            " [ True  True  True  True]\n",
            " [ True  True  True  True]]\n",
            "[ 3  4  5  6  7  8  9 10 11 12 13 14 15 16]\n",
            "[1 2]\n"
          ]
        }
      ]
    },
    {
      "cell_type": "markdown",
      "source": [
        "print(np.argmax(a))\n",
        "print(np.argmin(a))\n",
        "print(np.argsort(a))\n",
        "print(np.argsort(a)[::-1])\n",
        "print(np.where(a>5)[0])\n",
        "print(np.where(a>=a[np.argamax(a)])[0])"
      ],
      "metadata": {
        "id": "V6CwisMI-OlO"
      }
    },
    {
      "cell_type": "code",
      "source": [
        "print(np.argmax(a))\n",
        "print(np.argmin(a))\n",
        "print(np.argsort(a))\n",
        "print(np.argsort(a)[::-1])\n",
        "print(np.where(a>5)[0])\n",
        "print(np.where(a>=a[np.argmax(a)])[0])"
      ],
      "metadata": {
        "colab": {
          "base_uri": "https://localhost:8080/"
        },
        "id": "p-LAAQ2W9t2A",
        "outputId": "7b47abc8-2784-4d25-e395-9029302ae99c"
      },
      "execution_count": null,
      "outputs": [
        {
          "output_type": "stream",
          "name": "stdout",
          "text": [
            "5\n",
            "0\n",
            "[0 1 2 3 4 5]\n",
            "[5 4 3 2 1 0]\n",
            "[4 5]\n",
            "[5]\n"
          ]
        }
      ]
    },
    {
      "cell_type": "code",
      "source": [
        "a = [1,2,3]\n",
        "a = np.append(a,[5,6,7])\n",
        "print(a)"
      ],
      "metadata": {
        "colab": {
          "base_uri": "https://localhost:8080/"
        },
        "id": "1SLuyoUT-vpq",
        "outputId": "9fb494fa-4717-4eb2-b10b-3cb1eac15047"
      },
      "execution_count": null,
      "outputs": [
        {
          "output_type": "stream",
          "name": "stdout",
          "text": [
            "[1 2 3 5 6 7]\n"
          ]
        }
      ]
    },
    {
      "cell_type": "code",
      "source": [
        "a = np.delete(a,[2,3])\n",
        "print(a)\n"
      ],
      "metadata": {
        "colab": {
          "base_uri": "https://localhost:8080/"
        },
        "id": "9BpgBaa9_1QB",
        "outputId": "70c5f70d-41bf-4934-ba5f-86fff77c01ad"
      },
      "execution_count": null,
      "outputs": [
        {
          "output_type": "stream",
          "name": "stdout",
          "text": [
            "[1 2 6 7]\n"
          ]
        }
      ]
    },
    {
      "cell_type": "code",
      "source": [
        "a = np.array([[1,2],[3,4]])\n",
        "print(a)\n",
        "a = np.append(a,[[8,9]])\n",
        "\n",
        "print(a)"
      ],
      "metadata": {
        "colab": {
          "base_uri": "https://localhost:8080/"
        },
        "id": "nK30k7_fAP-t",
        "outputId": "8f0a9649-5dde-4bfd-cb82-7b22d7cec66a"
      },
      "execution_count": null,
      "outputs": [
        {
          "output_type": "stream",
          "name": "stdout",
          "text": [
            "[[1 2]\n",
            " [3 4]]\n",
            "[1 2 3 4 8 9]\n"
          ]
        }
      ]
    },
    {
      "cell_type": "code",
      "source": [
        "a = np.array([[7,5,1],[5,2,4]])\n",
        "a = np.sort(a,axis = 1,kind = \"quicksort\")\n",
        "print(a)\n",
        "a = np.sort(a,axis = 1,kind = \"heapsort\")\n",
        "print(a)\n",
        "a = np.sort(a,axis = 1,kind = \"mergesort\")\n",
        "print(a)\n",
        "print(np.sum(a))"
      ],
      "metadata": {
        "colab": {
          "base_uri": "https://localhost:8080/"
        },
        "id": "ZlsrwZ8IAyUI",
        "outputId": "56d87f53-9e07-417a-e93c-0e439ea084b3"
      },
      "execution_count": null,
      "outputs": [
        {
          "output_type": "stream",
          "name": "stdout",
          "text": [
            "[[1 5 7]\n",
            " [2 4 5]]\n",
            "[[1 5 7]\n",
            " [2 4 5]]\n",
            "[[1 5 7]\n",
            " [2 4 5]]\n",
            "24\n"
          ]
        }
      ]
    },
    {
      "cell_type": "code",
      "source": [
        "a = np.array([[1,2],[3,4]])\n",
        "b = np.array([[5,6],[7,8]])\n",
        "\n",
        "print(np.sum(a+b))\n",
        "print(np.sqrt(a))\n",
        "print(np.add(a,b))\n",
        "print(a.dot(b))  # dot ,, @ ,, --> multiplication\n",
        "print(a@b)\n",
        "print(np.min(a))\n",
        "print(np.max(a))\n",
        "\n"
      ],
      "metadata": {
        "colab": {
          "base_uri": "https://localhost:8080/"
        },
        "id": "3VqlEwABCVaP",
        "outputId": "186e2d14-8037-48d8-fe51-a0ae0cb36831"
      },
      "execution_count": null,
      "outputs": [
        {
          "output_type": "stream",
          "name": "stdout",
          "text": [
            "36\n",
            "[[1.         1.41421356]\n",
            " [1.73205081 2.        ]]\n",
            "[[ 6  8]\n",
            " [10 12]]\n",
            "[[19 22]\n",
            " [43 50]]\n",
            "[[19 22]\n",
            " [43 50]]\n",
            "1\n",
            "4\n"
          ]
        }
      ]
    },
    {
      "cell_type": "code",
      "source": [
        "a = np.array([[1],[2],[3]])\n",
        "c = a.squeeze()  # converts [1],[2],[3] --> [1,2,3] removes unwanted brackets\n",
        "print(c)\n",
        "print(a.reshape(-1,1))"
      ],
      "metadata": {
        "colab": {
          "base_uri": "https://localhost:8080/"
        },
        "id": "N-vPYH92D_Ef",
        "outputId": "0e20b4bc-4121-4525-8022-7bcac064aeec"
      },
      "execution_count": null,
      "outputs": [
        {
          "output_type": "stream",
          "name": "stdout",
          "text": [
            "[1 2 3]\n",
            "[[1]\n",
            " [2]\n",
            " [3]]\n"
          ]
        }
      ]
    },
    {
      "cell_type": "code",
      "source": [
        "#broadcasting\n",
        "print(np.array([1,2,3]) + np.array([4,5,6]) )\n",
        "print(np.array([[1,2,3],[4,5,6]] + np.array([10,20,30])))"
      ],
      "metadata": {
        "colab": {
          "base_uri": "https://localhost:8080/"
        },
        "id": "6F-w8XUPFI2s",
        "outputId": "a46dc0a9-0582-4123-c031-7a5ad7f99d72"
      },
      "execution_count": null,
      "outputs": [
        {
          "output_type": "stream",
          "name": "stdout",
          "text": [
            "[5 7 9]\n",
            "[[11 22 33]\n",
            " [14 25 36]]\n"
          ]
        }
      ]
    },
    {
      "cell_type": "code",
      "source": [
        "a = np.array([[1,2],[3,4]])\n",
        "print(a.reshape(1,4))\n"
      ],
      "metadata": {
        "colab": {
          "base_uri": "https://localhost:8080/"
        },
        "id": "F2JEsQpKGT2A",
        "outputId": "783f6209-92fa-469b-84b8-feca5b90ab53"
      },
      "execution_count": null,
      "outputs": [
        {
          "output_type": "stream",
          "name": "stdout",
          "text": [
            "[[1 2 3 4]]\n"
          ]
        }
      ]
    },
    {
      "cell_type": "code",
      "source": [
        "# a = np.array([[1,2,3],[4,5,6]])\n",
        "# print(np.reshape(2,3))\n",
        "\n",
        "a = np.array([[1, 2, 3], [4, 5, 6]])\n",
        "b = np.reshape(a, (2, 3))\n",
        "print(b)"
      ],
      "metadata": {
        "colab": {
          "base_uri": "https://localhost:8080/"
        },
        "id": "iP58RrfeHEoR",
        "outputId": "17ad6e5f-86c6-4d43-f718-2d9cd336fded"
      },
      "execution_count": null,
      "outputs": [
        {
          "output_type": "stream",
          "name": "stdout",
          "text": [
            "[[1 2 3]\n",
            " [4 5 6]]\n"
          ]
        }
      ]
    },
    {
      "cell_type": "code",
      "source": [],
      "metadata": {
        "id": "PZ79Q-yiHnAN"
      },
      "execution_count": null,
      "outputs": []
    }
  ]
}