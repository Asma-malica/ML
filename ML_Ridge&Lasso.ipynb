{
  "nbformat": 4,
  "nbformat_minor": 0,
  "metadata": {
    "colab": {
      "provenance": [],
      "include_colab_link": true
    },
    "kernelspec": {
      "name": "python3",
      "display_name": "Python 3"
    },
    "language_info": {
      "name": "python"
    }
  },
  "cells": [
    {
      "cell_type": "markdown",
      "metadata": {
        "id": "view-in-github",
        "colab_type": "text"
      },
      "source": [
        "<a href=\"https://colab.research.google.com/github/Asma-malica/ML/blob/main/ML_Ridge%26Lasso.ipynb\" target=\"_parent\"><img src=\"https://colab.research.google.com/assets/colab-badge.svg\" alt=\"Open In Colab\"/></a>"
      ]
    },
    {
      "cell_type": "markdown",
      "source": [
        "#model overfit aagura naala thaa regularization ku porom  \n",
        "\n",
        "* 2 types of regularization\n",
        "  \n",
        "   1 . Ridge\n",
        "   \n",
        "   2 . Lasso\n",
        "\n",
        "#Ridge vs Lasso --> Lasso is better\n",
        "\n",
        "#Ridge Regression..\n",
        "\n",
        "* L2 regularization\n",
        "\n",
        "* adding penalty term with error (squared value)\n",
        "\n",
        "* error cannot reach zero as it is in circle shape  bcoz of squaring\n",
        "\n",
        "* Perform L2 regularization ie adds penalty equivalent to the squre of the magnitude of coefficients\n",
        "\n",
        "* Minimization objective = LS obj + alpha*2(sum of square of coefficients)\n",
        "\n",
        "* Lridge(beta) = summation(y - x' * beta ) ^ 2 + lambda * summation(wj * betaj * 2)"
      ],
      "metadata": {
        "id": "n8eq-iy-652N"
      }
    },
    {
      "cell_type": "markdown",
      "source": [
        "#Lasso Regression\n",
        "\n",
        "* L1 Regulation\n",
        "\n",
        "* adding penalty term with error (absolute coefficient)\n",
        "\n",
        "* diamond Shaped , error comes to zero\n",
        "\n",
        "* L_lassso(beta) = summation(yi - xi' * beta) ^ 2 + lambda * summation ( abs(betaj))\n",
        "\n",
        "* LS obj + L * (sum of absolute of coeff)\n",
        "\n"
      ],
      "metadata": {
        "id": "5LY46bDM8LA6"
      }
    },
    {
      "cell_type": "code",
      "execution_count": null,
      "metadata": {
        "id": "H6MGVDix65IY"
      },
      "outputs": [],
      "source": [
        "import numpy as np\n",
        "import matplotlib.pyplot as plt"
      ]
    },
    {
      "cell_type": "code",
      "source": [
        "x = np.array([1,2,3,4,5])\n",
        "y = np.array([2.1,3.8,6.5,9.2,11.3])\n"
      ],
      "metadata": {
        "id": "DFQbu4li_CNo"
      },
      "execution_count": null,
      "outputs": []
    },
    {
      "cell_type": "markdown",
      "source": [
        "design matrix"
      ],
      "metadata": {
        "id": "hctq7_yh_T4M"
      }
    },
    {
      "cell_type": "code",
      "source": [
        "x_b = np.c_[np.ones([x.shape[0],1]),x]\n",
        "x_b"
      ],
      "metadata": {
        "colab": {
          "base_uri": "https://localhost:8080/"
        },
        "id": "EPIkQ0Ss_O7e",
        "outputId": "78c23424-3840-4f11-c2c4-5fa87cec1a87"
      },
      "execution_count": null,
      "outputs": [
        {
          "output_type": "execute_result",
          "data": {
            "text/plain": [
              "array([[1., 1.],\n",
              "       [1., 2.],\n",
              "       [1., 3.],\n",
              "       [1., 4.],\n",
              "       [1., 5.]])"
            ]
          },
          "metadata": {},
          "execution_count": 6
        }
      ]
    },
    {
      "cell_type": "code",
      "source": [
        "alpha_ridge = 1.0\n",
        "alpha_lasso = 0.1\n",
        "num_iteration = 1000\n",
        "learning_rate = 0.01\n"
      ],
      "metadata": {
        "id": "8TftEmyd_s1w"
      },
      "execution_count": null,
      "outputs": []
    },
    {
      "cell_type": "markdown",
      "source": [
        "lasso regression parameters --> input , o/p , iteration , alpha(learning rate)"
      ],
      "metadata": {
        "id": "fxX4Rf1UAN7k"
      }
    },
    {
      "cell_type": "code",
      "source": [
        "def lasso_regression(x,y,alpha,num_iterations,learning_rate):\n",
        "  m , n = x.shape\n",
        "  theta = np.zeros(n) #theta is same as weight\n",
        "  for _ in range(num_iteration):\n",
        "    y_pred = x.dot(theta)\n",
        "    gradient = (x.T.dot(y_pred - y) + alpha * np.sign(theta))/m\n",
        "    theta -= learning_rate * gradient\n",
        "  return theta\n",
        "\n"
      ],
      "metadata": {
        "id": "ppAaSwcqAHIT"
      },
      "execution_count": null,
      "outputs": []
    },
    {
      "cell_type": "markdown",
      "source": [
        "ridge regression parameters --> input , o/p , iteration , alpha(learning rate)"
      ],
      "metadata": {
        "id": "gg6j4w0FCkVY"
      }
    },
    {
      "cell_type": "code",
      "source": [
        "def ridge_regression(x,y,alpha,num_iterations,learning_rate):\n",
        "  m , n = x.shape\n",
        "  theta = np.zeros(n) #theta is same as weight\n",
        "  for _ in range(num_iteration):\n",
        "    y_pred = x.dot(theta)\n",
        "    gradient = (x.T.dot(y_pred - y) + alpha * theta)/m # removing np.sign from lasso\n",
        "    theta -= learning_rate * gradient\n",
        "  return theta"
      ],
      "metadata": {
        "id": "uq8Y9vIvAgKO"
      },
      "execution_count": null,
      "outputs": []
    },
    {
      "cell_type": "code",
      "source": [
        "theta_ridge = ridge_regression(x_b,y,alpha_ridge,num_iteration,learning_rate)\n",
        "print(theta_ridge)\n",
        "theta_lasso = lasso_regression(x_b,y,alpha_lasso,num_iteration,learning_rate)\n",
        "print(theta_lasso)"
      ],
      "metadata": {
        "colab": {
          "base_uri": "https://localhost:8080/"
        },
        "id": "JbOeqAqGCCDJ",
        "outputId": "c4b36d59-716b-42ae-936e-3c4ec4d8901e"
      },
      "execution_count": null,
      "outputs": [
        {
          "output_type": "stream",
          "name": "stdout",
          "text": [
            "[0.05700254 2.17211411]\n",
            "[-0.27352287  2.29942818]\n"
          ]
        }
      ]
    },
    {
      "cell_type": "code",
      "source": [
        "plt.scatter(x,y,label = 'Data')\n",
        "plt.plot(x,x_b.dot(theta_ridge),label = \"Ridge L2 Regression\",color = 'r')\n",
        "plt.plot(x,x_b.dot(theta_lasso),label = \"Lasso L1 Regression\",color = 'b')\n",
        "plt.xlabel(\"x\")\n",
        "plt.xlabel(\"Y\")\n",
        "plt.legend()\n",
        "plt.show()"
      ],
      "metadata": {
        "colab": {
          "base_uri": "https://localhost:8080/",
          "height": 449
        },
        "id": "YOIs3AZyDXCN",
        "outputId": "6b00b3ee-ca9c-4d89-a66f-f9b1212b8dd5"
      },
      "execution_count": null,
      "outputs": [
        {
          "output_type": "display_data",
          "data": {
            "text/plain": [
              "<Figure size 640x480 with 1 Axes>"
            ],
            "image/png": "[encoded data removed]"
          },
          "metadata": {}
        }
      ]
    },
    {
      "cell_type": "code",
      "source": [],
      "metadata": {
        "id": "tRjIAAHgEt29"
      },
      "execution_count": null,
      "outputs": []
    }
  ]
}